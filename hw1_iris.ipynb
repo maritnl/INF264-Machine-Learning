{
 "cells": [
  {
   "cell_type": "code",
   "execution_count": 1,
   "id": "0cae361b-9a14-4fcd-affa-41595828d22e",
   "metadata": {},
   "outputs": [],
   "source": [
    "import numpy as np\n",
    "import matplotlib.pyplot as plt\n",
    "from matplotlib.colors import ListedColormap\n",
    "from sklearn import neighbors, datasets, model_selection"
   ]
  },
  {
   "cell_type": "code",
   "execution_count": 2,
   "id": "47df3f81-b717-4a6c-83ee-b8b721a174af",
   "metadata": {},
   "outputs": [
    {
     "name": "stdout",
     "output_type": "stream",
     "text": [
      "Datapoints used for training:    105\n",
      "Datapoints used for validation:  22\n",
      "Datapoints used for testing :    23\n"
     ]
    }
   ],
   "source": [
    "iris = datasets.load_iris()   # Load Iris dataset\n",
    "X = iris.data[:, :2]          # Store the first 2 features    \n",
    "Y = iris.target               # Store the labels\n",
    "\n",
    "seed = 666                    # Fix random seed for reproducibility\n",
    "# Shuffle and split the data into train and a concatenation of validation and test sets with a ratio of 0.7/0.3:\n",
    "X_train, X_val_test, Y_train, Y_val_test = model_selection.train_test_split(X, Y,      \n",
    "                                                                            test_size=0.3, \n",
    "                                                                            shuffle=True, \n",
    "                                                                            random_state=seed)\n",
    "seed = 221\n",
    "# Shuffle and split the data into validation and test sets with a ratio of 0.5/0.5:\n",
    "X_val, X_test, Y_val, Y_test = model_selection.train_test_split(X_val_test, Y_val_test,      #TODO!\n",
    "                                                                            test_size=0.5, #TODO! \n",
    "                                                                            shuffle=True, \n",
    "                                                                            random_state=seed)\n",
    "\n",
    "# Store number of datapoints in each dataset:\n",
    "N_train = len(Y_train)\n",
    "N_val =  len(Y_val)\n",
    "N_test = len(Y_test)\n",
    "print(\"Datapoints used for training:   \", N_train)\n",
    "print(\"Datapoints used for validation: \", N_val)\n",
    "print(\"Datapoints used for testing :   \", N_test)"
   ]
  },
  {
   "cell_type": "code",
   "execution_count": 3,
   "id": "2e2939a5-924b-47b9-9129-007c1dc59eb5",
   "metadata": {},
   "outputs": [],
   "source": [
    "### Plot parameters:\n",
    "# Light colors for decision boundaries plots:\n",
    "cmap_light = ListedColormap(['orange', 'cyan', 'cornflowerblue'])\n",
    "cmap_bold = ListedColormap(['red', 'darkcyan', 'darkblue'])"
   ]
  },
  {
   "cell_type": "code",
   "execution_count": 4,
   "id": "1ff061b3-e414-4e8d-9c7b-88040257466b",
   "metadata": {},
   "outputs": [],
   "source": [
    "def plot_iris(\n",
    "    X_train,\n",
    "    Y_train,\n",
    "    X_val_test,\n",
    "    Y_val_test,\n",
    "):\n",
    "    \"\"\"\n",
    "    Scatter plots of training and testing iris datapoints\n",
    "\n",
    "    Colors represent specific iris species \n",
    "    Validation or test points appear in light colors\n",
    "    Training points appear in bold colors\n",
    "    \"\"\"\n",
    "    # Matplotlib method to get current axis\n",
    "    ax = plt.gca()    \n",
    "    # Scatter plot validation or testing points using light colors\n",
    "    ax.scatter(\n",
    "        X_val_test[:,0], X_val_test[:, 1], c=Y_val_test,  #TODO!\n",
    "        cmap=cmap_light, edgecolor='k', s=20, zorder=2\n",
    "    )\n",
    "    # Overlay the training points in bold colors:\n",
    "    ax.scatter(\n",
    "        X_train[:,0], X_train[:, 1], c=Y_train,  #TODO!\n",
    "        cmap=cmap_bold, edgecolor='k', s=20, zorder=2\n",
    "    )\n",
    "    \n",
    "    plt.xlabel('Sepal length')\n",
    "    plt.ylabel('Sepal width')\n",
    "    return ax\n",
    "\n",
    "def draw_knn_boundaries(\n",
    "    knn, \n",
    "    h=0.02,  # Step size in the mesh\n",
    "):\n",
    "    \"\"\"\n",
    "    Draw boundaries as decided by the trained knn\n",
    "    \"\"\"\n",
    "    ax = plt.gca()\n",
    "    [xmin, xmax] = ax.get_xlim()\n",
    "    [ymin, ymax] = ax.get_ylim()\n",
    "    # Generate the axis associated to the first feature: \n",
    "    x_axis = np.arange(xmin, xmax, h)\n",
    "    # Generate the axis associated to the 2nd feature: \n",
    "    y_axis = np.arange(ymin, ymax, h)\n",
    "    # Generate a meshgrid (2D grid) from the 2 axis:\n",
    "    x_grid, y_grid = np.meshgrid(x_axis, y_axis)\n",
    "    # Vectorize the grids into column vectors:\n",
    "    x_grid_vectorized = x_grid.flatten()\n",
    "    x_grid_vectorized = np.expand_dims(x_grid_vectorized, axis=1)\n",
    "    y_grid_vectorized = y_grid.flatten()\n",
    "    y_grid_vectorized = np.expand_dims(y_grid_vectorized, axis=1)\n",
    "    # Concatenate the vectorized grids\n",
    "    grid = np.concatenate((x_grid_vectorized, y_grid_vectorized),\n",
    "                                  axis=1)\n",
    "    # Now you can use 'grid' as data to classify by the knn \n",
    "\n",
    "    # Predict concatenated features to get the decision boundaries:\n",
    "    decision_boundaries = knn.predict(grid)\n",
    "\n",
    "    # Reshape the decision boundaries into a 2D matrix:\n",
    "    decision_boundaries = decision_boundaries.reshape(x_grid.shape)\n",
    "    plt.pcolormesh(x_grid, y_grid, decision_boundaries, cmap=cmap_light, zorder=1, shading='auto')\n",
    "    return ax\n",
    "\n",
    "# Main work here:\n",
    "def knn_on_iris(\n",
    "    k,\n",
    "    X_train,\n",
    "    Y_train,\n",
    "    X_val,\n",
    "    Y_val,\n",
    "):\n",
    "    \"\"\"\n",
    "    Train a knn and plot its boundaries on iris data\n",
    "    \"\"\"\n",
    "\n",
    "    # --------------------\n",
    "    # Plot iris data\n",
    "    # --------------------\n",
    "    plot_iris(X_train, Y_train, X_val, Y_val) #TODO!\n",
    "\n",
    "    # --------------------\n",
    "    # Train the knn\n",
    "    # --------------------\n",
    "\n",
    "    # Create an instance of the KNeighborsClassifier class for current value of k:\n",
    "    k_NN = neighbors.KNeighborsClassifier(n_neighbors=k)\n",
    "    # Train the classifier with the training data\n",
    "    k_NN.fit(X_train,Y_train)\n",
    "\n",
    "    # --------------------\n",
    "    # Draw knn boundaries\n",
    "    # --------------------\n",
    "    draw_knn_boundaries(k_NN) \n",
    "    plt.title(\"k-NN classification on Iris, k = \" + str(k_NN.get_params().get(\"n_neighbors\")))\n",
    "    plt.show()\n",
    "\n",
    "    # --------------------\n",
    "    # Model accuracy:\n",
    "    # --------------------\n",
    "\n",
    "    # Accuracy on train set:\n",
    "    train_predictions = k_NN.predict(X_train) \n",
    "    good_train_predictions = (train_predictions == Y_train)\n",
    "    train_accuracy = np.sum(good_train_predictions) / len(X_train)\n",
    "    # Accuracy on test set:\n",
    "    val_predictions = k_NN.predict(X_val)\n",
    "    good_val_predictions = (val_predictions == Y_val) \n",
    "    val_accuracy = np.sum(good_val_predictions) / len(X_val) \n",
    "    \n",
    "    return (k_NN, train_accuracy, val_accuracy)\n"
   ]
  },
  {
   "cell_type": "code",
   "execution_count": 5,
   "id": "09a303b9-7c63-4564-8882-f188d655a2b3",
   "metadata": {},
   "outputs": [
    {
     "name": "stdout",
     "output_type": "stream",
     "text": [
      "K-nn trained with k =  1\n",
      "Train accuracy:  0.9333333333333333  -----  Validation accuracy:  0.7272727272727273\n",
      "K-nn trained with k =  5\n",
      "Train accuracy:  0.8571428571428571  -----  Validation accuracy:  0.7272727272727273\n",
      "K-nn trained with k =  10\n",
      "Train accuracy:  0.8  -----  Validation accuracy:  0.7272727272727273\n",
      "K-nn trained with k =  20\n",
      "Train accuracy:  0.7714285714285715  -----  Validation accuracy:  0.8636363636363636\n",
      "K-nn trained with k =  30\n",
      "Train accuracy:  0.780952380952381  -----  Validation accuracy:  0.8636363636363636\n",
      "K-nn trained with k =  60\n",
      "Train accuracy:  0.7619047619047619  -----  Validation accuracy:  0.8181818181818182\n"
     ]
    },
    {
     "data": {
      "image/png": "[encoded data removed]",
      "text/plain": [
       "<Figure size 432x288 with 1 Axes>"
      ]
     },
     "metadata": {
      "needs_background": "light"
     },
     "output_type": "display_data"
    }
   ],
   "source": [
    "### k-NN on the Iris dataset for different values of k:\n",
    "# Create vectors to store the results for each k:\n",
    "train_accuracies = []\n",
    "val_accuracies = []\n",
    "\n",
    "# Train a knn for each value of k in k_list\n",
    "k_list = [1, 5, 10, 20, 30, 60]\n",
    "for k in k_list:\n",
    "    knn = neighbors.KNeighborsClassifier(n_neighbors=k)\n",
    "    knn.fit(X_train,Y_train) \n",
    "    \n",
    "    pred = knn.predict(X_train)\n",
    "    good_train_predictions = (pred == Y_train)\n",
    "    train_acc = np.sum(good_train_predictions) / len(X_train)\n",
    "    \n",
    "    pred = knn.predict(X_val)\n",
    "    good_val_predictions = (pred == Y_val)\n",
    "    val_acc = np.sum(good_val_predictions) / len(X_val)\n",
    "    \n",
    "    print(\"K-nn trained with k = \", k)\n",
    "    print(\"Train accuracy: \", train_acc, \" ----- \", \"Validation accuracy: \", val_acc)\n",
    "    train_accuracies.append(train_acc)\n",
    "    val_accuracies.append(val_acc)\n",
    "\n",
    "# Plot accuracy curves:\n",
    "plt.plot(k_list, train_accuracies)\n",
    "plt.plot(k_list, val_accuracies)\n",
    "plt.ylim(0, 1)\n",
    "plt.xlabel('k')\n",
    "plt.ylabel('Accuracy')\n",
    "plt.legend(['Train', 'Validation'], loc='best')\n",
    "plt.title(\"k-NN accuracy curves on Iris\")\n",
    "\n",
    "# Display plots:\n",
    "plt.show()"
   ]
  },
  {
   "cell_type": "code",
   "execution_count": 6,
   "id": "d48af927-0879-432d-b7eb-d5eeb5c1e1ea",
   "metadata": {},
   "outputs": [
    {
     "data": {
      "image/png": "[encoded data removed]",
      "text/plain": [
       "<Figure size 432x288 with 1 Axes>"
      ]
     },
     "metadata": {
      "needs_background": "light"
     },
     "output_type": "display_data"
    },
    {
     "name": "stdout",
     "output_type": "stream",
     "text": [
      "K-nn selected with k =  20\n",
      "Train accuracy:  0.7714285714285715  -----  Validation accuracy:  0.8636363636363636\n",
      "Test accuracy:  0.8260869565217391\n"
     ]
    }
   ],
   "source": [
    "# Based on the above plot I would choose k = 20 because the validation accuracy is highest \n",
    "k_selected = 20 \n",
    "(knn, train_acc, val_acc) = knn_on_iris(k_selected, X_train, Y_train, X_val, Y_val) \n",
    "test_predictions = knn.predict(X_test)\n",
    "good_test_predictions = (test_predictions == Y_test)\n",
    "test_acc = np.sum(good_test_predictions) / len(X_test) \n",
    "print(\"K-nn selected with k = \", k_selected)\n",
    "print(\"Train accuracy: \", train_acc, \" ----- \", \"Validation accuracy: \", val_acc)\n",
    "print(\"Test accuracy: \", test_acc)"
   ]
  },
  {
   "cell_type": "code",
   "execution_count": null,
   "id": "c90dfadd-0bc0-4592-a1cc-0259d837e4bb",
   "metadata": {},
   "outputs": [],
   "source": [
    "# 3b: The validation accuracy goes down after k=30, so it seems to be overfitting for k > 30 - though the decline is pretty slow.\n",
    "\n",
    "# 3c: Train accuracy for k = 1 is not 100% because there are samples in the data where the width/height of the sepal is the same, but not the label (thus two different species with the same sepal values). \n",
    "\n"
   ]
  }
 ],
 "metadata": {
  "kernelspec": {
   "display_name": "Python 3 (ipykernel)",
   "language": "python",
   "name": "python3"
  },
  "language_info": {
   "codemirror_mode": {
    "name": "ipython",
    "version": 3
   },
   "file_extension": ".py",
   "mimetype": "text/x-python",
   "name": "python",
   "nbconvert_exporter": "python",
   "pygments_lexer": "ipython3",
   "version": "3.9.6"
  }
 },
 "nbformat": 4,
 "nbformat_minor": 5
}
